{
  "nbformat": 4,
  "nbformat_minor": 0,
  "metadata": {
    "colab": {
      "provenance": []
    },
    "kernelspec": {
      "name": "python3",
      "display_name": "Python 3"
    },
    "language_info": {
      "name": "python"
    }
  },
  "cells": [
    {
      "cell_type": "code",
      "execution_count": null,
      "metadata": {
        "id": "_yXfZbFYmr74"
      },
      "outputs": [],
      "source": [
        "class Player:\n",
        "    def __init__(self, name, symbol):\n",
        "        self.name = name\n",
        "        self.symbol = symbol\n",
        "\n",
        "    def make_move(self, board):\n",
        "        # Implement player's move logic here\n",
        "        pass\n",
        "\n",
        "class Board:\n",
        "    def __init__(self):\n",
        "        self.board = [[' ' for _ in range(3)] for _ in range(3)]\n",
        "\n",
        "    def display(self):\n",
        "        # Implement board display logic here\n",
        "        pass\n",
        "\n",
        "    def check_win(self):\n",
        "        # Implement win condition check logic here\n",
        "        pass\n",
        "\n",
        "    def check_draw(self):\n",
        "        # Implement draw condition check logic here\n",
        "        pass\n",
        "\n",
        "class Game:\n",
        "    def __init__(self, player1, player2, board):\n",
        "        self.player1 = player1\n",
        "        self.player2 = player2\n",
        "        self.board = board\n",
        "\n",
        "    def start(self):\n",
        "        # Implement the game loop here\n",
        "        pass\n",
        "\n",
        "class Bot(Player):\n",
        "    def make_move(self, board):\n",
        "        # Implement bot's move logic here (random move)\n",
        "        pass\n",
        "\n",
        "# Dependency injection\n",
        "player1 = Player(\"Player 1\", \"X\")\n",
        "player2 = Player(\"Player 2\", \"O\")\n",
        "board = Board()\n",
        "\n",
        "game = Game(player1, player2, board)\n",
        "game.start()\n"
      ]
    }
  ]
}